{
 "cells": [
  {
   "cell_type": "code",
   "execution_count": 13,
   "id": "d9f0eba1",
   "metadata": {},
   "outputs": [],
   "source": [
    "import cv2\n",
    "import numpy as np\n",
    "import torch\n",
    "import torch.nn as nn\n",
    "from torchvision.transforms import ToTensor\n",
    "import os\n",
    "\n",
    "if torch.cuda.is_available():\n",
    "    device = torch.device('cuda')\n",
    "else:\n",
    "    device = torch.device('cpu')\n",
    "#print(device)\n",
    "\n",
    "os.environ['CUDA_LAUNCH_BLOCKING']='1'\n",
    "os.environ['KMP_DUPLICATE_LIB_OK'] = 'True'\n",
    "\n",
    "class ImageClassifier(nn.Module):\n",
    "    def __init__(self):\n",
    "        super().__init__()\n",
    "        self.conv_layer_1 = nn.Sequential(\n",
    "          nn.Conv2d(1, 16, 3, padding=0),\n",
    "          nn.ReLU(),\n",
    "          nn.MaxPool2d(2))\n",
    "        self.conv_layer_2 = nn.Sequential(\n",
    "          nn.Conv2d(16, 32, 3, padding=0),\n",
    "          nn.ReLU(),\n",
    "          nn.MaxPool2d(2),\n",
    "          nn.Dropout(0.2))\n",
    "        self.classifier = nn.Sequential(\n",
    "          nn.Flatten(),\n",
    "          nn.Linear(in_features=32*30*30, out_features=128),\n",
    "          nn.ReLU(),\n",
    "          nn.Dropout(0.05),\n",
    "          nn.Linear(in_features=128, out_features=5))\n",
    "    def forward(self, x: torch.Tensor):\n",
    "        x = self.conv_layer_1(x)\n",
    "        x = self.conv_layer_2(x)\n",
    "        x = self.classifier(x)\n",
    "        return x\n",
    "    \n",
    "def define_module():\n",
    "    global model\n",
    "    model = ImageClassifier()\n",
    "    model.to(device)\n",
    "    model.load_state_dict(torch.load(\"./weight/black0-4(99).pth\"))\n",
    "    model.eval()\n",
    "    \n",
    "def totensor(result_image):\n",
    "    to_tensor = ToTensor()\n",
    "    tensor_image = to_tensor(result_image)\n",
    "    tensor_image = tensor_image.unsqueeze(0)\n",
    "    #tensor_image.shape\n",
    "    return tensor_image\n",
    "\n",
    "def predict(tensor_image):\n",
    "    out = model(tensor_image.to(device))\n",
    "    soft=nn.Softmax(dim=1)\n",
    "    out = soft(out)\n",
    "    print(out)\n",
    "    max_value, max_index = torch.max(out, dim=1)\n",
    "    print(\"predict number\", max_index.item())\n",
    "    if(max_index.item()<0.5):\n",
    "        return -1\n",
    "    return max_index.item()\n",
    "    \n",
    "def seg(image,saturation_threshold = 70):\n",
    "    hsi= cv2.cvtColor(image, cv2.COLOR_RGB2HSV) \n",
    "    h, s, i = cv2.split(hsi)    \n",
    "    saturation_mask = s < saturation_threshold\n",
    "    saturation_mask = saturation_mask.astype(np.uint8)\n",
    "    saturation_mask = 1- saturation_mask \n",
    "    saturation_mask = saturation_mask * 255\n",
    "    return saturation_mask\n",
    "\n",
    "def all_process(image):\n",
    "    define_module()\n",
    "    saturation_mask = seg(image)\n",
    "    resize_image = cv2.resize(saturation_mask,(128,128),interpolation=cv2.INTER_AREA)\n",
    "    tensor_image = totensor(resize_image)\n",
    "    predict_number = predict(tensor_image)\n",
    "    return predict_number"
   ]
  },
  {
   "cell_type": "code",
   "execution_count": 15,
   "id": "3cf2501b",
   "metadata": {},
   "outputs": [
    {
     "name": "stdout",
     "output_type": "stream",
     "text": [
      "tensor([[3.0657e-06, 1.0563e-11, 9.5005e-06, 9.9998e-01, 1.1906e-05]],\n",
      "       device='cuda:0', grad_fn=<SoftmaxBackward0>)\n",
      "predict number 3\n"
     ]
    },
    {
     "data": {
      "text/plain": [
       "3"
      ]
     },
     "execution_count": 15,
     "metadata": {},
     "output_type": "execute_result"
    }
   ],
   "source": [
    "figure0 =cv2.imread('./zerotofour/3/three100.jpg')\n",
    "\n",
    "predict_number = all_process(figure0)\n",
    "predict_number\n",
    "# -1 代表機率小於0.5、0,1,2,3,4,5代表各自預測結果"
   ]
  },
  {
   "cell_type": "code",
   "execution_count": null,
   "id": "a9217735",
   "metadata": {},
   "outputs": [],
   "source": []
  }
 ],
 "metadata": {
  "kernelspec": {
   "display_name": "Python 3 (ipykernel)",
   "language": "python",
   "name": "python3"
  },
  "language_info": {
   "codemirror_mode": {
    "name": "ipython",
    "version": 3
   },
   "file_extension": ".py",
   "mimetype": "text/x-python",
   "name": "python",
   "nbconvert_exporter": "python",
   "pygments_lexer": "ipython3",
   "version": "3.10.9"
  }
 },
 "nbformat": 4,
 "nbformat_minor": 5
}
